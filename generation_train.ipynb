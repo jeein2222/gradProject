{
  "nbformat": 4,
  "nbformat_minor": 0,
  "metadata": {
    "colab": {
      "name": "generation-train.ipynb",
      "private_outputs": true,
      "provenance": [],
      "authorship_tag": "ABX9TyNQILhlWxuzMBJQrGqekEQz",
      "include_colab_link": true
    },
    "kernelspec": {
      "name": "python3",
      "display_name": "Python 3"
    },
    "language_info": {
      "name": "python"
    },
    "accelerator": "GPU"
  },
  "cells": [
    {
      "cell_type": "markdown",
      "metadata": {
        "id": "view-in-github",
        "colab_type": "text"
      },
      "source": [
        "<a href=\"https://colab.research.google.com/github/jeein2222/gradProject/blob/lyrics/generation_train.ipynb\" target=\"_parent\"><img src=\"https://colab.research.google.com/assets/colab-badge.svg\" alt=\"Open In Colab\"/></a>"
      ]
    },
    {
      "cell_type": "code",
      "execution_count": null,
      "metadata": {
        "id": "qiNlapFgREjT"
      },
      "outputs": [],
      "source": [
        "from google.colab import drive\n",
        "drive.mount('/gdrive',force_remount=True)"
      ]
    },
    {
      "cell_type": "code",
      "source": [
        "!pip install ratsnlp"
      ],
      "metadata": {
        "id": "0bwFuzw0Svkz"
      },
      "execution_count": null,
      "outputs": []
    },
    {
      "cell_type": "code",
      "source": [
        "import torch\n",
        "from ratsnlp.nlpbook.generation import GenerationTrainArguments\n",
        "args=GenerationTrainArguments(\n",
        "    pretrained_model_name=\"skt/kogpt2-base-v2\",\n",
        "    downstream_corpus_name=\"lyrics\",\n",
        "    downstream_model_dir=\"/gdrive/My Drive/nlpbook/checkpoint-generation2\",\n",
        "    max_seq_length=32,\n",
        "    batch_size=32 if torch.cuda.is_available() else 4,\n",
        "    learning_rate=5e-5, #1회 스텝에서 모델을 얼마나 업데이트할지에 관한 크기\n",
        "    epochs=3, #학습을 몇 번 반복\n",
        "    tpu_cores=0 if torch.cuda.is_available() else 8,\n",
        "    seed=7 #랜덤 시드\n",
        ")"
      ],
      "metadata": {
        "id": "bWbJ2jPfR3CX"
      },
      "execution_count": null,
      "outputs": []
    },
    {
      "cell_type": "code",
      "source": [
        "from ratsnlp import nlpbook\n",
        "nlpbook.set_seed(args)\n",
        "\n",
        "nlpbook.set_logger(args)"
      ],
      "metadata": {
        "id": "DAW8vmdfTrtZ"
      },
      "execution_count": null,
      "outputs": []
    },
    {
      "cell_type": "code",
      "source": [
        "from transformers import PreTrainedTokenizerFast\n",
        "tokenizer=PreTrainedTokenizerFast.from_pretrained(\n",
        "    args.pretrained_model_name,\n",
        "    eos_token=\"</s>\"\n",
        ")"
      ],
      "metadata": {
        "id": "GA0XkPteURoZ"
      },
      "execution_count": null,
      "outputs": []
    },
    {
      "cell_type": "code",
      "source": [
        "import os\n",
        "from ratsnlp.nlpbook.generation.corpus import GenerationExample\n",
        "class LyricsCorpus:\n",
        "    def __init__(self):\n",
        "        pass\n",
        "    \n",
        "    def get_examples(self,data_root_path,mode):\n",
        "        data_fpath=os.path.join(data_root_path,f\"{mode}.txt\")\n",
        "        lines=open(data_fpath,\"r\",encoding=\"utf-8\").readlines()\n",
        "        examples=[]\n",
        "        for (i,line) in enumerate(lines):\n",
        "           if i==0:\n",
        "               continue\n",
        "           examples.append(GenerationExample(text=line))\n",
        "        return examples\n",
        "\n"
      ],
      "metadata": {
        "id": "DM_2U3dNV87e"
      },
      "execution_count": null,
      "outputs": []
    },
    {
      "cell_type": "code",
      "source": [
        "import os\n",
        "os.chdir('/gdrive/MyDrive/Colab Notebooks')\n",
        "!pwd"
      ],
      "metadata": {
        "id": "IbVNXatOcuI6"
      },
      "execution_count": null,
      "outputs": []
    },
    {
      "cell_type": "code",
      "source": [
        "from ratsnlp.nlpbook.generation import GenerationDataset\n",
        "\n",
        "corpus = LyricsCorpus()\n",
        "train_dataset = GenerationDataset(\n",
        "    args=args,\n",
        "    corpus=corpus,\n",
        "    tokenizer=tokenizer,\n",
        "    mode=\"train\",\n",
        ")"
      ],
      "metadata": {
        "id": "oCnznRhAUmtG"
      },
      "execution_count": null,
      "outputs": []
    }
  ]
}